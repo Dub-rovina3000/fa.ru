{
 "cells": [
  {
   "cell_type": "code",
   "execution_count": 46,
   "metadata": {},
   "outputs": [],
   "source": [
    "import math\n",
    "from tkinter import *\n",
    " \n",
    "root = Tk()\n",
    "c = Canvas(root, width=600, height=600, bg=\"white\")\n",
    "c.pack()\n",
    " \n",
    "ball = c.create_oval(100, 100, 500, 500, fill='green')\n",
    "\n",
    "moving_ball = c.create_oval(485, 285, 515, 315, fill='black')\n",
    "\n",
    "i = 0\n",
    "\n",
    "def motion():\n",
    "    global i\n",
    "    fi = 359 + i\n",
    "    x = 300 + 200*math.cos(fi)\n",
    "    y = 300 + 200*math.sin(fi)\n",
    "    c.coords(moving_ball, (x-15,y-15,x+15,y+15))\n",
    "    i += 0.0078\n",
    "    if fi == 0:\n",
    "        i = 0\n",
    "    root.after(10, motion)\n",
    "\n",
    "\n",
    "\n",
    "motion()\n",
    "root.mainloop()\n"
   ]
  },
  {
   "cell_type": "code",
   "execution_count": null,
   "metadata": {},
   "outputs": [],
   "source": []
  },
  {
   "cell_type": "code",
   "execution_count": null,
   "metadata": {},
   "outputs": [],
   "source": []
  }
 ],
 "metadata": {
  "kernelspec": {
   "display_name": "Python 3",
   "language": "python",
   "name": "python3"
  },
  "language_info": {
   "codemirror_mode": {
    "name": "ipython",
    "version": 3
   },
   "file_extension": ".py",
   "mimetype": "text/x-python",
   "name": "python",
   "nbconvert_exporter": "python",
   "pygments_lexer": "ipython3",
   "version": "3.8.3"
  }
 },
 "nbformat": 4,
 "nbformat_minor": 4
}
